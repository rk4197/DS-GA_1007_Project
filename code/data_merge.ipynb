{
 "cells": [
  {
   "cell_type": "code",
   "execution_count": 71,
   "metadata": {},
   "outputs": [],
   "source": [
    "import os\n",
    "import pandas as pd"
   ]
  },
  {
   "cell_type": "code",
   "execution_count": 72,
   "metadata": {},
   "outputs": [],
   "source": [
    "data_path = \"./data\"\n",
    "sales_files = os.listdir(data_path)"
   ]
  },
  {
   "cell_type": "code",
   "execution_count": 73,
   "metadata": {},
   "outputs": [],
   "source": [
    "# Import all data\n",
    "sales_dfs = []\n",
    "for file in sales_files:\n",
    "    df = pd.read_excel(os.path.join(data_path,file))\n",
    "    sales_dfs.append(df)"
   ]
  },
  {
   "cell_type": "code",
   "execution_count": null,
   "metadata": {},
   "outputs": [],
   "source": [
    "# Remove headings from dfs\n",
    "n = 0\n",
    "for df_idx, df in enumerate(sales_dfs):\n",
    "    for i in range(len(df)):\n",
    "        if \"BOROUGH\" in df.iloc[i][0]:\n",
    "            header_row = df.iloc[i]\n",
    "            sales_dfs[df_idx] = pd.DataFrame(df.values[i+1:], columns=header_row)\n",
    "            n+=1\n",
    "            break"
   ]
  },
  {
   "cell_type": "code",
   "execution_count": 80,
   "metadata": {},
   "outputs": [],
   "source": [
    "# Get column names from one of the dfs\n",
    "column_names = list(sales_dfs[4].columns) ## Check if column names make sense (no '\\n')\n",
    "for df_idx, df in enumerate(sales_dfs): \n",
    "    sales_dfs[df_idx] = df.set_axis(column_names, axis='columns')"
   ]
  },
  {
   "cell_type": "code",
   "execution_count": 89,
   "metadata": {},
   "outputs": [],
   "source": [
    "# Merge all dfs and save\n",
    "merged_data = pd.concat(sales_dfs,ignore_index=True)\n",
    "merged_data.reset_index(drop=True, inplace=True)\n",
    "merged_data.to_csv(os.path.join(data_path, \"nyc-rolling-sales-03-21.csv\"), index=False)"
   ]
  },
  {
   "cell_type": "code",
   "execution_count": 90,
   "metadata": {},
   "outputs": [
    {
     "name": "stdout",
     "output_type": "stream",
     "text": [
      "1767986\n"
     ]
    }
   ],
   "source": [
    "print(len(merged_data))"
   ]
  }
 ],
 "metadata": {
  "kernelspec": {
   "display_name": "Python 3.9.12 ('base')",
   "language": "python",
   "name": "python3"
  },
  "language_info": {
   "codemirror_mode": {
    "name": "ipython",
    "version": 3
   },
   "file_extension": ".py",
   "mimetype": "text/x-python",
   "name": "python",
   "nbconvert_exporter": "python",
   "pygments_lexer": "ipython3",
   "version": "3.9.12"
  },
  "orig_nbformat": 4,
  "vscode": {
   "interpreter": {
    "hash": "7891ae22dbfafff51b455bc181be998f9b99e99929a20077377f4c11a4516cc4"
   }
  }
 },
 "nbformat": 4,
 "nbformat_minor": 2
}
